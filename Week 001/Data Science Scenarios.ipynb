{
 "cells": [
  {
   "cell_type": "markdown",
   "metadata": {},
   "source": [
    "# Task 1: Data Science Scenarios"
   ]
  },
  {
   "cell_type": "markdown",
   "metadata": {},
   "source": [
    "### In this first assignment, we ask you to think about some real-life process or problem in different problem domains, and how you can improve it using the Data Science process. Think about the following:\n",
    "\n",
    "1. Which data can you collect?\n",
    "2. How would you collect it?\n",
    "3. How would you store the data? How large the data is likely to be?\n",
    "4. Which insights you might be able to get from this data? Which decisions we would be able to take based on the data?\n",
    "Try to think about 3 different problems/processes and describe each of the points above for each problem domain.\n"
   ]
  },
  {
   "cell_type": "markdown",
   "metadata": {},
   "source": [
    "### Here are some of the problem domains and problems that can get you started thinking:\n",
    "\n",
    "1. How can you use data to improve education process for children in schools?\n",
    "2. How can you use data to control vaccination during the pandemic?\n",
    "3. How can you use data to make sure you are being productive at work?"
   ]
  },
  {
   "cell_type": "markdown",
   "metadata": {},
   "source": [
    "## Fill in the following table (substitute suggested problem domains for your own ones if needed):"
   ]
  },
  {
   "cell_type": "markdown",
   "metadata": {},
   "source": [
    "| Problem Domain | Problem | Which Data to Collect | How to Collect | How to Store Data | Data Size | Insights/Decisions |\n",
    "| --- | --- | --- | --- | --- | --- | --- |\n",
    "| Education | Improving the education process for children in schools | Student performance metrics, attendance records, teaching methods effectiveness | Surveys, standardized test scores, attendance tracking systems | Relational database, cloud storage | Moderate to Large | Tailor teaching methods, identify areas for improvement, optimize resources |\n",
    "| Vaccination | Controlling vaccination during the pandemic | Vaccination rates, demographic data, outbreak information | Health records, government databases, surveys | Health information systems, secure servers | Moderate | Targeted vaccination campaigns, resource allocation, tracking vaccine efficacy |\n",
    "| Productivity | Ensuring productivity at work | Employee task completion data, time logs, project timelines | Time tracking software, project management tools, employee feedback | Cloud-based collaboration tools | Small to Moderate | Identify bottlenecks, optimize workflows, measure team efficiency |\n"
   ]
  },
  {
   "cell_type": "markdown",
   "metadata": {},
   "source": [
    "## Chosen Problem Domain "
   ]
  },
  {
   "cell_type": "markdown",
   "metadata": {},
   "source": [
    "| Problem Domain | Problem | Which Data to Collect | How to Collect | How to Store Data | Data Size | Insights/Decisions |\n",
    "| --- | --- | --- | --- | --- | --- | --- |\n",
    "| Healthcare | Enhancing patient care in hospitals | Patient medical records, treatment outcomes, staff workload | Electronic health records, medical devices, staff input | Secure health information systems | Moderate to Large | Optimize patient treatment plans, allocate staff efficiently, improve overall healthcare quality |\n",
    "| E-commerce | Increasing customer satisfaction and sales | Customer purchase history, website interactions, product reviews | E-commerce platform analytics, customer feedback surveys | Cloud-based databases | Large | Personalized marketing strategies, product recommendations, website optimization |\n",
    "| Environmental Conservation | Preserving biodiversity in natural reserves | Species population data, habitat conditions, weather patterns | Field surveys, satellite imagery, climate sensors | Centralized environmental databases | Moderate | Implement targeted conservation efforts, monitor ecosystem health, respond to environmental changes |\n"
   ]
  }
 ],
 "metadata": {
  "kernelspec": {
   "display_name": "datascience",
   "language": "python",
   "name": "python3"
  },
  "language_info": {
   "name": "python",
   "version": "3.9.18"
  }
 },
 "nbformat": 4,
 "nbformat_minor": 2
}
